{
  "nbformat": 4,
  "nbformat_minor": 0,
  "metadata": {
    "colab": {
      "provenance": [],
      "include_colab_link": true
    },
    "kernelspec": {
      "name": "python3",
      "display_name": "Python 3"
    },
    "language_info": {
      "name": "python"
    }
  },
  "cells": [
    {
      "cell_type": "markdown",
      "metadata": {
        "id": "view-in-github",
        "colab_type": "text"
      },
      "source": [
        "<a href=\"https://colab.research.google.com/github/chinmayc0707/genai/blob/main/Program1.ipynb\" target=\"_parent\"><img src=\"https://colab.research.google.com/assets/colab-badge.svg\" alt=\"Open In Colab\"/></a>"
      ]
    },
    {
      "cell_type": "code",
      "execution_count": 6,
      "metadata": {
        "colab": {
          "base_uri": "https://localhost:8080/"
        },
        "id": "OAlKTW4n5XAA",
        "outputId": "b24b6b51-a6e2-4171-96a8-171b65d21625"
      },
      "outputs": [
        {
          "output_type": "stream",
          "name": "stdout",
          "text": [
            "Requirement already satisfied: scipy==1.13.1 in /usr/local/lib/python3.11/dist-packages (1.13.1)\n",
            "Requirement already satisfied: numpy<2.3,>=1.22.4 in /usr/local/lib/python3.11/dist-packages (from scipy==1.13.1) (1.26.4)\n",
            "Collecting gensim==4.3.3\n",
            "  Using cached gensim-4.3.3-cp311-cp311-manylinux_2_17_x86_64.manylinux2014_x86_64.whl.metadata (8.1 kB)\n",
            "Using cached gensim-4.3.3-cp311-cp311-manylinux_2_17_x86_64.manylinux2014_x86_64.whl (26.7 MB)\n",
            "Installing collected packages: gensim\n",
            "  Attempting uninstall: gensim\n",
            "    Found existing installation: gensim 4.3.3\n",
            "    Uninstalling gensim-4.3.3:\n",
            "      Successfully uninstalled gensim-4.3.3\n",
            "Successfully installed gensim-4.3.3\n"
          ]
        }
      ],
      "source": [
        "!pip install scipy==1.13.1\n",
        "!pip install --no-deps --force-reinstall gensim==4.3.3"
      ]
    },
    {
      "cell_type": "code",
      "source": [
        "\n",
        "import gensim.downloader as api"
      ],
      "metadata": {
        "id": "d5OAKy2klABu"
      },
      "execution_count": 7,
      "outputs": []
    },
    {
      "cell_type": "code",
      "source": [
        "import numpy as np\n",
        "from numpy.linalg import norm"
      ],
      "metadata": {
        "id": "pcm03apMl8P1"
      },
      "execution_count": 8,
      "outputs": []
    },
    {
      "cell_type": "code",
      "source": [
        "\n",
        "print(\"Loading pre-trained word vectors...\")\n",
        "word_vectors = api.load(\"word2vec-google-news-300\")"
      ],
      "metadata": {
        "colab": {
          "base_uri": "https://localhost:8080/"
        },
        "id": "yHBeWzWcl-_7",
        "outputId": "b8ba6c7c-e038-4cd5-ee06-ba87f1200cf3"
      },
      "execution_count": 9,
      "outputs": [
        {
          "output_type": "stream",
          "name": "stdout",
          "text": [
            "Loading pre-trained word vectors...\n",
            "[==================================================] 100.0% 1662.8/1662.8MB downloaded\n"
          ]
        }
      ]
    },
    {
      "cell_type": "code",
      "source": [
        "\n",
        "def explore_word_relationships(word1, word2, word3):\n",
        "  try:\n",
        "\n",
        "    vec1 = word_vectors[word1]\n",
        "    vec2 = word_vectors[word2]\n",
        "    vec3 = word_vectors[word3]\n",
        "\n",
        "    result_vector = vec1 - vec2 + vec3\n",
        "\n",
        "    similar_words = word_vectors.similar_by_vector(result_vector, topn=10)\n",
        "\n",
        "    input_words = {word1, word2, word3}\n",
        "    filtered_words = [(word, similarity) for word, similarity in similar_words if word not in input_words]\n",
        "    print(f\"\\nWord Relationship: {word1} - {word2} + {word3}\")\n",
        "    print(\"Most similar words to the result (excluding input words):\")\n",
        "    for word, similarity in filtered_words[:5]:\n",
        "      print(f\"{word}: {similarity:.4f}\")\n",
        "  except KeyError as e:\n",
        "    print(f\"Error: {e} not found in the vocabulary.\")"
      ],
      "metadata": {
        "id": "boNZTQQrmC2V"
      },
      "execution_count": 10,
      "outputs": []
    },
    {
      "cell_type": "code",
      "source": [
        "\n",
        "explore_word_relationships(\"king\", \"man\", \"woman\")\n",
        "explore_word_relationships(\"paris\", \"france\", \"germany\")\n",
        "explore_word_relationships(\"apple\", \"fruit\", \"carrot\")"
      ],
      "metadata": {
        "colab": {
          "base_uri": "https://localhost:8080/"
        },
        "id": "3VMqmxkaoWef",
        "outputId": "4abd29c0-9544-4a7f-a83a-eb00d7c0d9f4"
      },
      "execution_count": 11,
      "outputs": [
        {
          "output_type": "stream",
          "name": "stdout",
          "text": [
            "\n",
            "Word Relationship: king - man + woman\n",
            "Most similar words to the result (excluding input words):\n",
            "queen: 0.7301\n",
            "monarch: 0.6455\n",
            "princess: 0.6156\n",
            "crown_prince: 0.5819\n",
            "prince: 0.5777\n",
            "\n",
            "Word Relationship: paris - france + germany\n",
            "Most similar words to the result (excluding input words):\n",
            "berlin: 0.4838\n",
            "german: 0.4695\n",
            "lindsay_lohan: 0.4536\n",
            "switzerland: 0.4468\n",
            "heidi: 0.4445\n",
            "\n",
            "Word Relationship: apple - fruit + carrot\n",
            "Most similar words to the result (excluding input words):\n",
            "carrots: 0.5700\n",
            "proverbial_carrot: 0.4578\n",
            "Carrot: 0.4159\n",
            "Twizzler: 0.4074\n",
            "peppermint_candy: 0.4074\n"
          ]
        }
      ]
    },
    {
      "cell_type": "code",
      "source": [
        "\n",
        "def analyze_similarity(word1, word2):\n",
        "  try:\n",
        "    similarity = word_vectors.similarity(word1, word2)\n",
        "    print(f\"\\nSimilarity between '{word1}' and '{word2}': {similarity:.4f}\")\n",
        "  except KeyError as e:\n",
        "    print(f\"Error: {e} not found in the vocabulary.\")"
      ],
      "metadata": {
        "id": "gFUfSWjAoaHU"
      },
      "execution_count": 12,
      "outputs": []
    },
    {
      "cell_type": "code",
      "source": [
        "\n",
        "analyze_similarity(\"cat\", \"dog\")\n",
        "analyze_similarity(\"computer\", \"keyboard\")\n",
        "analyze_similarity(\"music\", \"art\")"
      ],
      "metadata": {
        "colab": {
          "base_uri": "https://localhost:8080/"
        },
        "id": "BGfZ3u5RovMw",
        "outputId": "bf87bbc4-1a63-4411-8f3b-dd20afae8062"
      },
      "execution_count": 13,
      "outputs": [
        {
          "output_type": "stream",
          "name": "stdout",
          "text": [
            "\n",
            "Similarity between 'cat' and 'dog': 0.7609\n",
            "\n",
            "Similarity between 'computer' and 'keyboard': 0.3964\n",
            "\n",
            "Similarity between 'music' and 'art': 0.4010\n"
          ]
        }
      ]
    },
    {
      "cell_type": "code",
      "source": [
        "\n",
        "def find_most_similar(word):\n",
        "  try:\n",
        "    similar_words = word_vectors.most_similar(word, topn=5)\n",
        "    print(f\"\\nMost similar words to '{word}':\")\n",
        "    for similar_word, similarity in similar_words:\n",
        "      print(f\"{similar_word}: {similarity:.4f}\")\n",
        "  except KeyError as e:\n",
        "    print(f\"Error: {e} not found in the vocabulary.\")"
      ],
      "metadata": {
        "id": "dsDg98IAo0Ec"
      },
      "execution_count": 14,
      "outputs": []
    },
    {
      "cell_type": "code",
      "source": [
        "\n",
        "find_most_similar(\"happy\")\n",
        "find_most_similar(\"sad\")\n",
        "find_most_similar(\"technology\")"
      ],
      "metadata": {
        "colab": {
          "base_uri": "https://localhost:8080/"
        },
        "id": "Q5opVdR2o-Cw",
        "outputId": "291c077e-cea6-4e66-8d1b-39fc05b1465d"
      },
      "execution_count": 15,
      "outputs": [
        {
          "output_type": "stream",
          "name": "stdout",
          "text": [
            "\n",
            "Most similar words to 'happy':\n",
            "glad: 0.7409\n",
            "pleased: 0.6632\n",
            "ecstatic: 0.6627\n",
            "overjoyed: 0.6599\n",
            "thrilled: 0.6514\n",
            "\n",
            "Most similar words to 'sad':\n",
            "saddening: 0.7273\n",
            "Sad: 0.6611\n",
            "saddened: 0.6604\n",
            "heartbreaking: 0.6574\n",
            "disheartening: 0.6507\n",
            "\n",
            "Most similar words to 'technology':\n",
            "technologies: 0.8332\n",
            "innovations: 0.6231\n",
            "technological_innovations: 0.6102\n",
            "technol: 0.6047\n",
            "technological_advancement: 0.6036\n"
          ]
        }
      ]
    }
  ]
}